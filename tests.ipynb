{
    "cells": [
        {
            "cell_type": "code",
            "execution_count": 2,
            "source": [
                "import tensorflow as tf"
            ],
            "outputs": [],
            "metadata": {}
        },
        {
            "cell_type": "code",
            "execution_count": 10,
            "source": [
                "model = tf.keras.Sequential([\n",
                "    tf.keras.layers.InputLayer((110,110,3)),\n",
                "    tf.keras.layers.Conv2D(32, 2, padding=\"same\", activation=\"relu\"),\n",
                "    tf.keras.layers.MaxPool2D(2, 2),\n",
                "    tf.keras.layers.Conv2D(32, 2, padding=\"valid\", activation=\"relu\"),\n",
                "    tf.keras.layers.MaxPool2D(2, 2),\n",
                "    tf.keras.layers.Conv2D(32, 2, padding=\"valid\", activation=\"relu\"),\n",
                "    tf.keras.layers.MaxPool2D(2, 2),\n",
                "    tf.keras.layers.Conv2D(32, 2, padding=\"valid\", activation=\"relu\"),\n",
                "    tf.keras.layers.GlobalAveragePooling2D(),\n",
                "    tf.keras.layers.Dense(2, activation=\"softmax\")    \n",
                "])"
            ],
            "outputs": [],
            "metadata": {}
        },
        {
            "cell_type": "code",
            "execution_count": 11,
            "source": [
                "model.summary()"
            ],
            "outputs": [
                {
                    "output_type": "stream",
                    "name": "stdout",
                    "text": [
                        "Model: \"sequential_4\"\n",
                        "_________________________________________________________________\n",
                        "Layer (type)                 Output Shape              Param #   \n",
                        "=================================================================\n",
                        "conv2d_16 (Conv2D)           (None, 110, 110, 32)      416       \n",
                        "_________________________________________________________________\n",
                        "max_pooling2d_12 (MaxPooling (None, 55, 55, 32)        0         \n",
                        "_________________________________________________________________\n",
                        "conv2d_17 (Conv2D)           (None, 54, 54, 32)        4128      \n",
                        "_________________________________________________________________\n",
                        "max_pooling2d_13 (MaxPooling (None, 27, 27, 32)        0         \n",
                        "_________________________________________________________________\n",
                        "conv2d_18 (Conv2D)           (None, 26, 26, 32)        4128      \n",
                        "_________________________________________________________________\n",
                        "max_pooling2d_14 (MaxPooling (None, 13, 13, 32)        0         \n",
                        "_________________________________________________________________\n",
                        "conv2d_19 (Conv2D)           (None, 12, 12, 32)        4128      \n",
                        "_________________________________________________________________\n",
                        "global_average_pooling2d_4 ( (None, 32)                0         \n",
                        "_________________________________________________________________\n",
                        "dense_4 (Dense)              (None, 2)                 66        \n",
                        "=================================================================\n",
                        "Total params: 12,866\n",
                        "Trainable params: 12,866\n",
                        "Non-trainable params: 0\n",
                        "_________________________________________________________________\n"
                    ]
                }
            ],
            "metadata": {}
        },
        {
            "cell_type": "code",
            "execution_count": null,
            "source": [
                "print(\"Hallo\")"
            ],
            "outputs": [],
            "metadata": {}
        },
        {
            "cell_type": "code",
            "execution_count": 12,
            "source": [
                "model = tf.keras.Sequential()"
            ],
            "outputs": [],
            "metadata": {}
        },
        {
            "cell_type": "code",
            "execution_count": 15,
            "source": [
                "model.add(tf.keras.layers.InputLayer((110,110,3)))\n",
                "model.add(tf.keras.layers.Dense(12))"
            ],
            "outputs": [],
            "metadata": {}
        },
        {
            "cell_type": "code",
            "execution_count": 16,
            "source": [
                "model.summary()"
            ],
            "outputs": [
                {
                    "output_type": "stream",
                    "name": "stdout",
                    "text": [
                        "Model: \"sequential_5\"\n",
                        "_________________________________________________________________\n",
                        "Layer (type)                 Output Shape              Param #   \n",
                        "=================================================================\n",
                        "input_7 (InputLayer)         multiple                  0         \n",
                        "_________________________________________________________________\n",
                        "dense_5 (Dense)              (None, 110, 110, 12)      48        \n",
                        "=================================================================\n",
                        "Total params: 48\n",
                        "Trainable params: 48\n",
                        "Non-trainable params: 0\n",
                        "_________________________________________________________________\n"
                    ]
                }
            ],
            "metadata": {}
        },
        {
            "cell_type": "code",
            "execution_count": null,
            "source": [],
            "outputs": [],
            "metadata": {}
        }
    ],
    "metadata": {
        "orig_nbformat": 4,
        "language_info": {
            "name": "python",
            "version": "3.9.5",
            "mimetype": "text/x-python",
            "codemirror_mode": {
                "name": "ipython",
                "version": 3
            },
            "pygments_lexer": "ipython3",
            "nbconvert_exporter": "python",
            "file_extension": ".py"
        },
        "kernelspec": {
            "name": "python3",
            "display_name": "Python 3.9.5 64-bit ('scrapper': conda)"
        },
        "interpreter": {
            "hash": "93a2b3115bd34c81c7509de73ca04e82936afd4894b4766f00f91636c4159658"
        }
    },
    "nbformat": 4,
    "nbformat_minor": 2
}